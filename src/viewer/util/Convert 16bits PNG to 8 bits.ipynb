{
 "cells": [
  {
   "cell_type": "code",
   "execution_count": 1,
   "metadata": {},
   "outputs": [
    {
     "name": "stdout",
     "output_type": "stream",
     "text": [
      "Requirement already satisfied: opencv-python in c:\\users\\aarayas\\appdata\\local\\continuum\\anaconda3\\envs\\tensorflow\\lib\\site-packages (3.4.1.15)\n",
      "Requirement already satisfied: numpy>=1.11.1 in c:\\users\\aarayas\\appdata\\local\\continuum\\anaconda3\\envs\\tensorflow\\lib\\site-packages (from opencv-python) (1.14.5)\n"
     ]
    },
    {
     "name": "stderr",
     "output_type": "stream",
     "text": [
      "tensorflow 1.9.0 has requirement setuptools<=39.1.0, but you'll have setuptools 39.2.0 which is incompatible.\n"
     ]
    }
   ],
   "source": [
    "import cv2\n",
    "import numpy as np\n",
    "import os\n",
    "import pathlib\n",
    "\n",
    "#define the path\n",
    "inputDir = pathlib.Path('G:\\\\')\n",
    "outputDir = pathlib.Path('E:\\\\noaa\\\\conv-thermal')\n",
    "\n",
    "#define the path\n",
    "inputDir = pathlib.Path('G:\\\\')\n",
    "for currentFile in inputDir.glob(\"*.png\"):\n",
    "    currentFilename = str(currentFile.name)\n",
    "    img = cv2.imread(currentFilename, -cv2.IMREAD_ANYDEPTH).astype(np.uint8)\n",
    "    currentFilename = str(currentFile.name)\n",
    "    outputFile = os.path.join(outputDir, currentFilename)\n",
    "    cv2.imwrite(outputFile, img)\n",
    "    break;\n",
    "\n",
    "img = cv2.imread('G:\\\\CHESS_FL2_C_160409_000330.374_THERM-16BIT.PNG', -cv2.IMREAD_ANYDEPTH).astype(np.uint8)\n",
    "\n",
    "cv2.imwrite('E:\\\\noaa\\\\conv-thermal\\\\CHESS_FL2_C_160409_000330.374_THERM-16BIT.PNG', img)"
   ]
  },
  {
   "cell_type": "code",
   "execution_count": null,
   "metadata": {},
   "outputs": [],
   "source": []
  }
 ],
 "metadata": {
  "kernelspec": {
   "display_name": "Python 3",
   "language": "python",
   "name": "python3"
  },
  "language_info": {
   "codemirror_mode": {
    "name": "ipython",
    "version": 3
   },
   "file_extension": ".py",
   "mimetype": "text/x-python",
   "name": "python",
   "nbconvert_exporter": "python",
   "pygments_lexer": "ipython3",
   "version": "3.6.5"
  }
 },
 "nbformat": 4,
 "nbformat_minor": 2
}
