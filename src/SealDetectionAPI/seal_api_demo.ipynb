{
 "cells": [
  {
   "cell_type": "markdown",
   "metadata": {},
   "source": [
    "## Seal detection API demo\n",
    "This demo shows the detection of seals and polar bears in aerial infrared images taken by the National Oceanic and Atmospheric Administration (NOAA)."
   ]
  },
  {
   "cell_type": "markdown",
   "metadata": {},
   "source": [
    "### Imports and constants"
   ]
  },
  {
   "cell_type": "code",
   "execution_count": null,
   "metadata": {},
   "outputs": [],
   "source": [
    "import requests\n",
    "from io import BytesIO\n",
    "import random\n",
    "random.seed(0)\n",
    "import glob\n",
    "import PIL.Image\n",
    "import numpy as np\n",
    "import os\n",
    "from IPython.core.display import Image, display\n",
    "\n",
    "api_address = 'http://sealsapivm.southcentralus.cloudapp.azure.com:8088/'\n",
    "test_image_folder = '/data/seals_blob1_test/'\n",
    "\n",
    "requests.get(api_address).text"
   ]
  },
  {
   "cell_type": "markdown",
   "metadata": {},
   "source": [
    "### Retrieve and display IR image"
   ]
  },
  {
   "cell_type": "code",
   "execution_count": null,
   "metadata": {
    "scrolled": false
   },
   "outputs": [],
   "source": [
    "image_path = random.choice(glob.glob(os.path.join(test_image_folder, '*_THERM-16BIT-N.PNG')))\n",
    "upload_image = PIL.Image.fromarray((np.array(PIL.Image.open(image_path))/256).astype(np.uint8))\n",
    "upload_image"
   ]
  },
  {
   "cell_type": "markdown",
   "metadata": {},
   "source": [
    "### Call API and display results"
   ]
  },
  {
   "cell_type": "code",
   "execution_count": null,
   "metadata": {
    "scrolled": false
   },
   "outputs": [],
   "source": [
    "upload_bytes = BytesIO()\n",
    "upload_image.save(upload_bytes, 'PNG')\n",
    "upload_bytes.seek(0)\n",
    "result_image = PIL.Image.open(BytesIO(requests.post(api_address + 'v1/detection_api/detect', \n",
    "                        data=upload_bytes,\n",
    "                        headers={'Content-Type':'image/png'}).content))\n",
    "result_image"
   ]
  },
  {
   "cell_type": "markdown",
   "metadata": {},
   "source": [
    "### Retrieve and display color image (for information only)"
   ]
  },
  {
   "cell_type": "code",
   "execution_count": null,
   "metadata": {},
   "outputs": [],
   "source": [
    "image_basename = os.path.split(image_path[:image_path.index('_THERM-16BIT-N.PNG')])[1]\n",
    "color_image_path = os.path.join(test_image_folder, image_basename + '_COLOR-8-BIT.JPG')\n",
    "color_image = PIL.Image.open(color_image_path)\n",
    "color_image.thumbnail((700,700), PIL.Image.ANTIALIAS)\n",
    "color_image"
   ]
  },
  {
   "cell_type": "markdown",
   "metadata": {},
   "source": [
    "### Full-size color image\n",
    "It takes a while after the cell computation has completed until the color image is loaded.\n",
    "\n",
    "Click with the middle mouse button on the image to scroll around in any direction."
   ]
  },
  {
   "cell_type": "code",
   "execution_count": null,
   "metadata": {
    "scrolled": false
   },
   "outputs": [],
   "source": [
    "# Displaying the color image takes a while\n",
    "display(Image(color_image_path, unconfined=True))"
   ]
  },
  {
   "cell_type": "markdown",
   "metadata": {},
   "source": [
    "### Notes\n",
    "The current example code does not support multi-part post requests, hence you need to pass the images using the data parameter of requests.post instead of the files parameter as shown above. Below would be the multi part variant, which is not supported yet"
   ]
  },
  {
   "cell_type": "code",
   "execution_count": null,
   "metadata": {},
   "outputs": [],
   "source": [
    "# Multiplart variant\n",
    "# Currently not supported\n",
    "upload_bytes.seek(0)\n",
    "print(requests.post(api_address + 'v1/detection_api/detect', \n",
    "              files=[('image_bytes', ('input.png', upload_bytes, 'image/png'))]).text)"
   ]
  }
 ],
 "metadata": {
  "kernelspec": {
   "display_name": "Python 3",
   "language": "python",
   "name": "python3"
  },
  "language_info": {
   "codemirror_mode": {
    "name": "ipython",
    "version": 3
   },
   "file_extension": ".py",
   "mimetype": "text/x-python",
   "name": "python",
   "nbconvert_exporter": "python",
   "pygments_lexer": "ipython3",
   "version": "3.6.6"
  }
 },
 "nbformat": 4,
 "nbformat_minor": 2
}
