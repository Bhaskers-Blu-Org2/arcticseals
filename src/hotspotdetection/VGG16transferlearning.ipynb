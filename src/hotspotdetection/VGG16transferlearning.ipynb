{
 "cells": [
  {
   "cell_type": "code",
   "execution_count": 28,
   "metadata": {},
   "outputs": [],
   "source": [
    "from keras.models import Model\n",
    "from keras.preprocessing import image\n",
    "from keras.optimizers import SGD\n",
    "from keras.applications.vgg16 import VGG16\n",
    "from keras.layers import Dense, GlobalAveragePooling2D, Flatten\n",
    "from keras import backend as K\n",
    "import matplotlib.pyplot as plt\n",
    "import numpy as np\n",
    "import pandas as pd\n",
    "%matplotlib inline\n",
    "from matplotlib.pyplot import imshow\n",
    "from PIL import Image\n",
    "\n",
    "imgPath = \"/mnt/ml/NOAA/color\"\n",
    "irPath = \"/mnt/ml/NOAA/thermal\"\n",
    "dataPath = \"/mnt/ml/NOAA/arcticseals/data\""
   ]
  },
  {
   "cell_type": "markdown",
   "metadata": {},
   "source": [
    "### Metaparameters"
   ]
  },
  {
   "cell_type": "code",
   "execution_count": 11,
   "metadata": {},
   "outputs": [],
   "source": [
    "NB_EPOCH = 20\n",
    "BATCH_SIZE = 128\n",
    "VERBOSE = 1\n",
    "VALIDATION_SPLIT = 0.2"
   ]
  },
  {
   "cell_type": "markdown",
   "metadata": {},
   "source": [
    "### Data generator"
   ]
  },
  {
   "cell_type": "code",
   "execution_count": 3,
   "metadata": {},
   "outputs": [],
   "source": [
    "def numpy_crop(img, x1, y1, x2, y2):\n",
    "    return img[y1:y2, x1:x2]"
   ]
  },
  {
   "cell_type": "code",
   "execution_count": 7,
   "metadata": {},
   "outputs": [],
   "source": [
    "def SealDataGenerator():\n",
    "    df = pd.read_csv(\"{}/training.csv\".format(dataPath))\n",
    "    \n",
    "    i = 0\n",
    "    for index, row in df.iterrows():\n",
    "        imageFile = \"{}/{}\".format(imgPath, row.filt_color)\n",
    "        image = Image.open(imageFile)\n",
    "        \n",
    "        # TODO: Some images have negative bounding boxes.\n",
    "        # print((imageFile, row.thumb_left, row.thumb_top, row.thumb_right, row.thumb_bottom))\n",
    "        if (row.thumb_left < 0 or row.thumb_top < 0 or row.thumb_right < 0 or row.thumb_bottom < 0):\n",
    "            print(\"x\", end=\"\")\n",
    "        else:\n",
    "            subimage = image.crop((row.thumb_left, row.thumb_top, row.thumb_right, row.thumb_bottom))\n",
    "            print(\".\", end=\"\")\n",
    "        \n",
    "        i+=1\n",
    "        \n",
    "    print(\"Images processed {}\".format(i))"
   ]
  },
  {
   "cell_type": "markdown",
   "metadata": {},
   "source": [
    "VGG16 model layout:"
   ]
  },
  {
   "cell_type": "code",
   "execution_count": 19,
   "metadata": {},
   "outputs": [],
   "source": [
    "def ShowLayers(base_model):\n",
    "    for i, layer in enumerate(base_model.layers):\n",
    "        print (i, layer.name, layer.output_shape)"
   ]
  },
  {
   "cell_type": "code",
   "execution_count": 20,
   "metadata": {
    "scrolled": true
   },
   "outputs": [
    {
     "name": "stdout",
     "output_type": "stream",
     "text": [
      "0 input_5 (None, 224, 224, 3)\n",
      "1 block1_conv1 (None, 224, 224, 64)\n",
      "2 block1_conv2 (None, 224, 224, 64)\n",
      "3 block1_pool (None, 112, 112, 64)\n",
      "4 block2_conv1 (None, 112, 112, 128)\n",
      "5 block2_conv2 (None, 112, 112, 128)\n",
      "6 block2_pool (None, 56, 56, 128)\n",
      "7 block3_conv1 (None, 56, 56, 256)\n",
      "8 block3_conv2 (None, 56, 56, 256)\n",
      "9 block3_conv3 (None, 56, 56, 256)\n",
      "10 block3_pool (None, 28, 28, 256)\n",
      "11 block4_conv1 (None, 28, 28, 512)\n",
      "12 block4_conv2 (None, 28, 28, 512)\n",
      "13 block4_conv3 (None, 28, 28, 512)\n",
      "14 block4_pool (None, 14, 14, 512)\n",
      "15 block5_conv1 (None, 14, 14, 512)\n",
      "16 block5_conv2 (None, 14, 14, 512)\n",
      "17 block5_conv3 (None, 14, 14, 512)\n",
      "18 block5_pool (None, 7, 7, 512)\n",
      "19 flatten (None, 25088)\n",
      "20 fc1 (None, 4096)\n",
      "21 fc2 (None, 4096)\n",
      "22 predictions (None, 1000)\n"
     ]
    }
   ],
   "source": [
    "original_model = VGG16(weights=None, include_top=True)\n",
    "ShowLayers(original_model)"
   ]
  },
  {
   "cell_type": "markdown",
   "metadata": {},
   "source": [
    "Removing top and last 3 layers:"
   ]
  },
  {
   "cell_type": "code",
   "execution_count": 35,
   "metadata": {},
   "outputs": [
    {
     "name": "stdout",
     "output_type": "stream",
     "text": [
      "0 input_18 (None, 512, 512, 3)\n",
      "1 block1_conv1 (None, 512, 512, 64)\n",
      "2 block1_conv2 (None, 512, 512, 64)\n",
      "3 block1_pool (None, 256, 256, 64)\n",
      "4 block2_conv1 (None, 256, 256, 128)\n",
      "5 block2_conv2 (None, 256, 256, 128)\n",
      "6 block2_pool (None, 128, 128, 128)\n",
      "7 block3_conv1 (None, 128, 128, 256)\n",
      "8 block3_conv2 (None, 128, 128, 256)\n",
      "9 block3_conv3 (None, 128, 128, 256)\n",
      "10 block3_pool (None, 64, 64, 256)\n",
      "11 block4_conv1 (None, 64, 64, 512)\n",
      "12 block4_conv2 (None, 64, 64, 512)\n",
      "13 block4_conv3 (None, 64, 64, 512)\n",
      "14 block4_pool (None, 32, 32, 512)\n",
      "15 block5_conv1 (None, 32, 32, 512)\n",
      "16 block5_conv2 (None, 32, 32, 512)\n",
      "17 block5_conv3 (None, 32, 32, 512)\n",
      "18 block5_pool (None, 16, 16, 512)\n",
      "19 flatten (None, 131072)\n",
      "20 fc1 (None, 4096)\n",
      "21 fc2 (None, 4096)\n",
      "22 predictions (None, 5)\n"
     ]
    }
   ],
   "source": [
    "# Input = 512x512x3\n",
    "base_model = VGG16(weights='imagenet', include_top=False, input_shape=(512,512,3)) # Will download the 560MB trained model.\n",
    "\n",
    "# Output = ['Anomaly' 'Bearded Seal' 'Ringed Seal' 'Polar Bear' 'UNK Seal']\n",
    "x = base_model.output\n",
    "x = Flatten(name='flatten')(x)\n",
    "x = Dense(4096, name='fc1')(x)\n",
    "x = Dense(4096, name='fc2')(x)\n",
    "\n",
    "predictions = Dense(5, activation='softmax', name='predictions')(x)\n",
    "model = Model(inputs=base_model.input, outputs=predictions)\n",
    "ShowLayers(model)"
   ]
  },
  {
   "cell_type": "code",
   "execution_count": 36,
   "metadata": {},
   "outputs": [],
   "source": [
    "sgd = SGD(lr=0.1, decay=1e-6, momentum=0.9, nesterov=True)\n",
    "model.compile(optimizer=sgd, loss='categorical_crossentropy')"
   ]
  },
  {
   "cell_type": "code",
   "execution_count": null,
   "metadata": {},
   "outputs": [],
   "source": []
  }
 ],
 "metadata": {
  "kernelspec": {
   "display_name": "Python 3",
   "language": "python",
   "name": "python3"
  }
 },
 "nbformat": 4,
 "nbformat_minor": 2
}
